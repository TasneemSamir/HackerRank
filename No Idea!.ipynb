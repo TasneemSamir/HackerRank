{
 "cells": [
  {
   "cell_type": "markdown",
   "id": "7c0bc059",
   "metadata": {},
   "source": [
    "There is an array of n integers. There are also 2 disjoint sets, A and B, each containing\n",
    "m integers. You like all the integers in set A and dislike all the integers in set B. Your\n",
    "initial happiness is 0. For each i integer in the array, if i in A, you add 1 to your\n",
    "happiness. If i in B, you add -1 to your happiness. Otherwise, your happiness does not\n",
    "change. Output your final happiness at the end.\n",
    "\n",
    "Note: Since A and B are sets, they have no repeated elements. However, the array might\n",
    "contain duplicate elements.\n",
    "\n",
    "Constraints\n",
    "1 ≤ n ≤ 105\n",
    "1 < m < 105\n",
    "1 < Any integer in the input < 109\n",
    "\n",
    "Input Format\n",
    "\n",
    "The first line contains integers n and m separated by a space.\n",
    "The second line contains n integers, the elements of the array.\n",
    "The third and fourth lines contain m integers, A and B, respectively.\n",
    "\n",
    "Output Format\n",
    "\n",
    "Output a single integer, your total happiness.\n",
    "\n",
    "Sample Input\n",
    "\n",
    "\n",
    "3 2\n",
    "\n",
    "1 5 3\n",
    "\n",
    "3 1\n",
    "\n",
    "5 7\n",
    "\n",
    "Sample Output\n",
    "\n",
    "1"
   ]
  },
  {
   "cell_type": "code",
   "execution_count": null,
   "id": "21bff8d3",
   "metadata": {},
   "outputs": [],
   "source": [
    "# Enter your code here. Read input from STDIN. Print output to STDOUT\n",
    "if __name__ == \"__main__\":\n",
    "    happiness = 0\n",
    "    n, m = map(int, input().strip().split(' '))\n",
    "    arr = list(map(int, input().strip().split(' ')))\n",
    "    \n",
    "    good = set(map(int, input().strip().split(' ')))\n",
    "    bad = set(map(int, input().strip().split(' ')))\n",
    "    \n",
    "    for i in arr:\n",
    "        if i in good:\n",
    "            happiness += 1\n",
    "        elif i in bad:\n",
    "            happiness -= 1\n",
    "    print(happiness)"
   ]
  }
 ],
 "metadata": {
  "language_info": {
   "name": "python"
  }
 },
 "nbformat": 4,
 "nbformat_minor": 5
}
