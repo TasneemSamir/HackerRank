{
 "cells": [
  {
   "cell_type": "markdown",
   "id": "6b82107e",
   "metadata": {},
   "source": [
    "The provided code stub will read in a dictionary containing key/value pairs of name:\n",
    "[marks] for a list of students. Print the average of the marks array for the student name\n",
    "provided, showing 2 places after the decimal.\n",
    "\n",
    "Example\n",
    "marks key:value pairs are\n",
    "'alpha': [20, 30, 40]\n",
    "'beta': [30, 50, 70]\n",
    "query_name = 'beta'\n",
    "The query_name is 'beta'. beta's average score is $$(30+50+70)/3 = 50.0.\n",
    "Input Format\n",
    "\n",
    "The first line contains the integer n, the number of students' records. The next n lines\n",
    "contain the names and marks obtained by a student, each value separated by a space.\n",
    "The final line contains query_name, the name of a student to query.\n",
    "\n",
    "Output Format\n",
    "Print one line: The average of the marks obtained by the particular student correct to 2\n",
    "decimal places.\n",
    "\n",
    "Sample Input 0\n",
    "\n",
    "3\n",
    "\n",
    "Krishna 67 68 69\n",
    "\n",
    "Arjun 70 98 63\n",
    "\n",
    "Malika 52 56 60\n",
    "\n",
    "Malika\n",
    "\n",
    "Sample Output 0\n",
    "\n",
    "56.00"
   ]
  },
  {
   "cell_type": "code",
   "execution_count": null,
   "id": "cb39a5b9",
   "metadata": {},
   "outputs": [],
   "source": [
    "if __name__ == '__main__':\n",
    "    n = int(input())\n",
    "    student_marks = {}\n",
    "    for _ in range(n):\n",
    "        name, *line = input().split()\n",
    "        scores = list(map(float, line))\n",
    "        student_marks[name] = scores\n",
    "    query_name = input()\n",
    "    if query_name in student_marks :\n",
    "        s=student_marks[query_name]\n",
    "        average=sum(s)/3\n",
    "    print(f\"{average:.2f}\")"
   ]
  }
 ],
 "metadata": {
  "language_info": {
   "name": "python"
  }
 },
 "nbformat": 4,
 "nbformat_minor": 5
}
