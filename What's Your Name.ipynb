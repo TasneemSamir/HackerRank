{
 "cells": [
  {
   "cell_type": "markdown",
   "id": "88b47203",
   "metadata": {},
   "source": [
    "You are given the firstname and lastname of a person on two different lines. Your task is\n",
    "to read them and print the following:\n",
    "\n",
    "Hello firstname lastname You just delved into python.\n",
    "\n",
    "Function Description\n",
    "\n",
    "Complete the print_full_name function in the editor below.\n",
    "\n",
    "print_full_name has the following parameters:\n",
    "\n",
    "• string first: the first name\n",
    "\n",
    "• string last: the last name Prints\n",
    "\n",
    "• string: 'Hello firstname lastname! You just delved into python' where firstname\n",
    "and lastname are replaced with first and last.\n",
    "\n",
    "Input Format\n",
    "\n",
    "The first line contains the first name, and the second line contains the last name.\n",
    "Constraints\n",
    "\n",
    "The length of the first and last names are each ≤ 10.\n",
    "\n",
    "Sample Input O\n",
    "\n",
    "Ross\n",
    "\n",
    "Taylor\n",
    "\n",
    "\n",
    "Sample Output 0\n",
    "\n",
    "Hello Ross Taylor! You just delved into python."
   ]
  },
  {
   "cell_type": "code",
   "execution_count": null,
   "id": "c87a3d83",
   "metadata": {},
   "outputs": [],
   "source": [
    "#\n",
    "# Complete the 'print_full_name' function below.\n",
    "#\n",
    "# The function is expected to return a STRING.\n",
    "# The function accepts following parameters:\n",
    "#  1. STRING first\n",
    "#  2. STRING last\n",
    "#\n",
    "\n",
    "def print_full_name(first, last):\n",
    "    # Write your code here\n",
    "    print(f\"Hello {first} {last}! You just delved into python.\")"
   ]
  }
 ],
 "metadata": {
  "language_info": {
   "name": "python"
  }
 },
 "nbformat": 4,
 "nbformat_minor": 5
}
