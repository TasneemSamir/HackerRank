{
 "cells": [
  {
   "cell_type": "markdown",
   "id": "625e5b25",
   "metadata": {},
   "source": [
    "Task\n",
    "\n",
    "Read a given string, change the character at a given index and then print the modified\n",
    "string.\n",
    "\n",
    "Function Description\n",
    "\n",
    "Complete the mutate_string function in the editor below.\n",
    "\n",
    "mutate_string has the following parameters:\n",
    "\n",
    "• string string: the string to change\n",
    "\n",
    "• int position: the index to insert the character at\n",
    "\n",
    "• string character: the character to insert\n",
    "\n",
    "Returns\n",
    "\n",
    "• string: the altered string\n",
    "\n",
    "Input Format\n",
    "\n",
    "The first line contains a string, string.\n",
    "\n",
    "The next line contains an integer position, the index location and a string character,\n",
    "\n",
    "separated by a space.\n",
    "\n",
    "Sample Input\n",
    "```\n",
    "STDIN         Function\n",
    "abracadabra   s = 'abracadabra'\n",
    "5 k           position = 5, character = 'k'\n",
    "```\n",
    "Sample Output\n",
    "\n",
    "abrackdabra"
   ]
  },
  {
   "cell_type": "code",
   "execution_count": null,
   "id": "bbf3f7c5",
   "metadata": {},
   "outputs": [],
   "source": [
    "def mutate_string(string, position, character):\n",
    "    string=list(string)\n",
    "    string[position]=character\n",
    "    string=''.join(string)\n",
    "    return string"
   ]
  }
 ],
 "metadata": {
  "language_info": {
   "name": "python"
  }
 },
 "nbformat": 4,
 "nbformat_minor": 5
}
