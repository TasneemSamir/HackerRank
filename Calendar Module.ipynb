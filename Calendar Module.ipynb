{
 "cells": [
  {
   "cell_type": "markdown",
   "id": "c1559118",
   "metadata": {},
   "source": [
    "You are given a date. Your task is to find\n",
    "what the day is on that date.\n",
    "\n",
    "Input Format\n",
    "\n",
    "A single line of input containing the\n",
    "\n",
    "space separated month, day and year,\n",
    "\n",
    "respectively, in MM DD YYYY\n",
    "\n",
    "format.\n",
    "\n",
    "Constraints\n",
    "\n",
    "2000 < year < 3000\n",
    "\n",
    "Output Format\n",
    "\n",
    "Output the correct day in capital letters.\n",
    "\n",
    "Sample Input\n",
    "\n",
    "08 05 2015\n",
    "\n",
    "Sample Output\n",
    "\n",
    "WEDNESDAY"
   ]
  },
  {
   "cell_type": "code",
   "execution_count": null,
   "id": "226fec25",
   "metadata": {},
   "outputs": [],
   "source": [
    "import datetime\n",
    "import calendar\n",
    "m,d,y=map(int,input().split())\n",
    "date=datetime.date(y,m,d)\n",
    "print(calendar.day_name[date.weekday()].upper())"
   ]
  }
 ],
 "metadata": {
  "language_info": {
   "name": "python"
  }
 },
 "nbformat": 4,
 "nbformat_minor": 5
}
