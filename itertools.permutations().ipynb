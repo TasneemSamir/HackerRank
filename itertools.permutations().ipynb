{
 "cells": [
  {
   "cell_type": "markdown",
   "id": "3b354ccd",
   "metadata": {},
   "source": [
    "You are given a string S.\n",
    "\n",
    "Your task is to print all possible permutations of size k of the string in lexicographic sorted\n",
    "order.\n",
    "\n",
    "Input Format\n",
    "\n",
    "A single line containing the space separated string S and the integer value k.\n",
    "\n",
    "Constraints\n",
    "\n",
    "0 < k ≤ len(S)\n",
    "\n",
    "The string contains only UPPERCASE characters.\n",
    "\n",
    "Output Format\n",
    "\n",
    "Print the permutations of the string S on separate lines.\n",
    "\n",
    "Sample Input\n",
    "\n",
    "HACK 2\n",
    "\n",
    "Sample Output\n",
    "\n",
    "AC\n",
    "\n",
    "AH\n",
    "\n",
    "AK\n",
    "\n",
    "CA\n",
    "\n",
    "CH\n",
    "\n",
    "CK\n",
    "\n",
    "HA\n",
    "\n",
    "HC\n",
    "\n",
    "HK\n",
    "\n",
    "KA\n",
    "\n",
    "KC\n",
    "\n",
    "KH\n"
   ]
  },
  {
   "cell_type": "code",
   "execution_count": null,
   "id": "ef976ea4",
   "metadata": {},
   "outputs": [],
   "source": [
    "# Enter your code here. Read input from STDIN. Print output to STDOUT\n",
    "from itertools import permutations\n",
    "s,k=input().split()\n",
    "K= int(k)\n",
    "perm= sorted(list(permutations(s,K)))\n",
    "for p in perm :\n",
    "     print(''.join(p))"
   ]
  }
 ],
 "metadata": {
  "language_info": {
   "name": "python"
  }
 },
 "nbformat": 4,
 "nbformat_minor": 5
}
