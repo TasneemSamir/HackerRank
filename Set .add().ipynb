{
 "cells": [
  {
   "cell_type": "markdown",
   "id": "fecb838d",
   "metadata": {},
   "source": [
    "Apply your knowledge of the .add() operation to help your friend Rupal.\n",
    "\n",
    "Rupal has a huge collection of country stamps. She decided to count the total number of\n",
    "distinct country stamps in her collection. She asked for your help. You pick the stamps\n",
    "one by one from a stack of N country stamps.\n",
    "\n",
    "Find the total number of distinct country stamps.\n",
    "\n",
    "Input Format\n",
    "\n",
    "The first line contains an integer N, the total number of country stamps.\n",
    "The next N lines contains the name of the country where the stamp is from.\n",
    "\n",
    "Constraints\n",
    "0 < N < 1000\n",
    "\n",
    "Output Format\n",
    "\n",
    "Output the total number of distinct country stamps on a single line.\n",
    "\n",
    "Sample Input\n",
    "\n",
    "\n",
    "7\n",
    "\n",
    "UK\n",
    "\n",
    "China\n",
    "\n",
    "USA\n",
    "\n",
    "France\n",
    "\n",
    "New Zealand\n",
    "\n",
    "UK\n",
    "\n",
    "France \n",
    "\n",
    "Sample Output\n",
    "\n",
    "\n",
    "5"
   ]
  },
  {
   "cell_type": "code",
   "execution_count": null,
   "id": "b4cda7ac",
   "metadata": {},
   "outputs": [],
   "source": [
    "# Enter your code here. Read input from STDIN. Print output to STDOUT\n",
    "n=int(input())\n",
    "l=[]\n",
    "for i in range(n):\n",
    "    l.append(input())\n",
    "s=set(l) \n",
    "print(len(s))"
   ]
  }
 ],
 "metadata": {
  "language_info": {
   "name": "python"
  }
 },
 "nbformat": 4,
 "nbformat_minor": 5
}
