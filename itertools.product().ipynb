{
 "cells": [
  {
   "cell_type": "markdown",
   "id": "639eade9",
   "metadata": {},
   "source": [
    "Task\n",
    "You are given a two lists A and B. Your task is to compute their cartesian product A×B.\n",
    "\n",
    "Example\n",
    "\n",
    "A = [1, 2]\n",
    "B = [3, 4]\n",
    "\n",
    "A×B = [(1, 3), (1, 4), (2, 3), (2, 4)]\n",
    "\n",
    "Note: A and B are sorted lists, and the cartesian product's tuples should be output in\n",
    "sorted order.\n",
    "\n",
    "Input Format\n",
    "\n",
    "The first line contains the space separated elements of list A.\n",
    "The second line contains the space separated elements of list B.\n",
    "Both lists have no duplicate integer elements.\n",
    "\n",
    "Constraints\n",
    "\n",
    "0 < A < 30\n",
    "0 < B < 30\n",
    "\n",
    "Output Format\n",
    "\n",
    "Output the space separated tuples of the cartesian product.\n",
    "\n",
    "Sample Input\n",
    "\n",
    " 1 2\n",
    " 3 4\n",
    "Sample Output\n",
    "\n",
    " (1, 3) (1, 4) (2, 3) (2, 4)"
   ]
  },
  {
   "cell_type": "code",
   "execution_count": null,
   "id": "46e20c9c",
   "metadata": {},
   "outputs": [],
   "source": [
    "# Enter your code here. Read input from STDIN. Print output to STDOUT\n",
    "from itertools import product\n",
    "A=map(int,input().split())\n",
    "\n",
    "B=map(int,input().split())\n",
    "\n",
    "print (*product(A,B))\n"
   ]
  }
 ],
 "metadata": {
  "language_info": {
   "name": "python"
  }
 },
 "nbformat": 4,
 "nbformat_minor": 5
}
