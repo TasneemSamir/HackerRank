{
 "cells": [
  {
   "cell_type": "markdown",
   "id": "ce9eb71a",
   "metadata": {},
   "source": [
    "Task\n",
    "\n",
    "Now, let's use our knowledge of sets and help Mickey.\n",
    "\n",
    "Ms. Gabriel Williams is a botany professor at District College. One day, she asked her\n",
    "\n",
    "student Mickey to compute the average of all the plants with distinct heights in her\n",
    "\n",
    "greenhouse.\n",
    "\n",
    "Formula used:\n",
    "\n",
    "Average =\n",
    "Sum of Distinct Heights/\n",
    "Total Number of Distinct Heights\n",
    "\n",
    "Function Description\n",
    "\n",
    "Complete the average function in the editor below.\n",
    "\n",
    "average has the following parameters:\n",
    "\n",
    "· int arr: an array of integers\n",
    "\n",
    "Returns\n",
    "\n",
    "· float: the resulting float value rounded to 3 places after the decimal\n",
    "\n",
    "Input Format\n",
    "\n",
    "The first line contains the integer, IV, the size of arr.\n",
    "\n",
    "The second line contains the N space-separated integers, arr[i].\n",
    "\n",
    "Constraints\n",
    "\n",
    "0<N ≤ 100\n",
    "\n",
    "Sample Input\n",
    "\n",
    "```STDIN                                       Function\n",
    "-----                                       --------\n",
    "10                                          arr[] size N = 10\n",
    "161 182 161 154 176 170 167 171 170 174     arr = [161, 181, ..., 174]\n",
    "```\n",
    "\n",
    "Sample Output\n",
    "\n",
    "\n",
    "169.375"
   ]
  },
  {
   "cell_type": "code",
   "execution_count": null,
   "id": "16fe2893",
   "metadata": {},
   "outputs": [],
   "source": [
    "def average(array):\n",
    "    # your code goes here\n",
    "    numbers=set(array)\n",
    "    return sum(numbers)/len(numbers)"
   ]
  }
 ],
 "metadata": {
  "language_info": {
   "name": "python"
  }
 },
 "nbformat": 4,
 "nbformat_minor": 5
}
