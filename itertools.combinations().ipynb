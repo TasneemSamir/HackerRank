{
 "cells": [
  {
   "cell_type": "markdown",
   "id": "7f5f2cfc",
   "metadata": {},
   "source": [
    "Task  \n",
    "\n",
    "You are given a string S.  \n",
    "\n",
    "Your task is to print all possible combinations, up to size k, of the string in lexicographic  \n",
    "sorted order.  \n",
    "\n",
    "Input Format  \n",
    "\n",
    "A single line containing the string S and integer value k separated by a space.  \n",
    "\n",
    "Constraints  \n",
    "\n",
    "0 < k ≤ len(S)  \n",
    "\n",
    "The string contains only UPPERCASE characters.  \n",
    "\n",
    "Output Format  \n",
    "\n",
    "Print the different combinations of string S on separate lines.  \n"
   ]
  },
  {
   "cell_type": "code",
   "execution_count": null,
   "id": "bd1070fb",
   "metadata": {},
   "outputs": [],
   "source": [
    "# Enter your code here. Read input from STDIN. Print output to STDOUT\n",
    "from itertools import combinations \n",
    "s,k= input().split()\n",
    "K= int(k)\n",
    "s=sorted(s)\n",
    "for i in range(1,K+1):\n",
    "   for c in combinations(s,i):\n",
    "     print(''.join(c))\n"
   ]
  }
 ],
 "metadata": {
  "language_info": {
   "name": "python"
  }
 },
 "nbformat": 4,
 "nbformat_minor": 5
}
