{
 "cells": [
  {
   "cell_type": "markdown",
   "id": "ae697bbc",
   "metadata": {},
   "source": [
    "Task\n",
    "\n",
    "You are given a string. Split the string on a \"\" (space) delimiter and join using a -\n",
    "\n",
    "hyphen.\n",
    "\n",
    "Function Description\n",
    "\n",
    "Complete the split_and_join function in the editor below.\n",
    "\n",
    "split_and_join has the following parameters:\n",
    "\n",
    "• string line: a string of space-separated words\n",
    "\n",
    "Returns\n",
    "\n",
    "• string: the resulting string\n",
    "\n",
    "Input Format\n",
    "\n",
    "The one line contains a string consisting of space separated words.\n",
    "\n",
    "Sample Input\n",
    "\n",
    "this is a string\n",
    "\n",
    "Sample Output\n",
    "\n",
    "this-is-a-string"
   ]
  },
  {
   "cell_type": "code",
   "execution_count": null,
   "id": "036ecac8",
   "metadata": {},
   "outputs": [],
   "source": [
    "def split_and_join(line):\n",
    "    # write your code here\n",
    "    line=line.split(\" \")\n",
    "    line=\"-\".join(line)\n",
    "    return line\n",
    "\n",
    "if __name__ == '__main__':\n",
    "    line = input()\n",
    "    result = split_and_join(line)\n",
    "    print(result)"
   ]
  }
 ],
 "metadata": {
  "language_info": {
   "name": "python"
  }
 },
 "nbformat": 4,
 "nbformat_minor": 5
}
