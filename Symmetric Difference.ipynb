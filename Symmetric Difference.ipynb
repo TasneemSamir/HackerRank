{
 "cells": [
  {
   "cell_type": "markdown",
   "id": "6712db23",
   "metadata": {},
   "source": [
    "Given 2 sets of integers, M and N. print their symmetric difference in ascending order.\n",
    "\n",
    "The term symmetric difference indicates those values that exist in either M or N but do\n",
    "\n",
    "not exist in both.\n",
    "\n",
    "Input Format\n",
    "The first line of input contains an integer, M.\n",
    "The second line contains M space-separated integers.\n",
    "The third line contains an integer, N.\n",
    "The fourth line contains N space-separated integers.\n",
    "\n",
    "Output Format\n",
    "Output the symmetric difference integers in ascending order, one per line.\n",
    "\n",
    "Sample Input\n",
    "```\n",
    "STDIN       Function\n",
    "-----       --------\n",
    "4           set a size M = 4\n",
    "2 4 5 9     a = {2, 4, 5, 9}\n",
    "4           set b size N = 4\n",
    "2 4 11 12   b = {2, 4, 11, 12}\n",
    "```\n",
    "Sample Output\n",
    "```\n",
    "5\n",
    "9\n",
    "11\n",
    "12\n",
    "```"
   ]
  },
  {
   "cell_type": "code",
   "execution_count": null,
   "id": "2be79d32",
   "metadata": {},
   "outputs": [],
   "source": [
    "# Enter your code here. Read input from STDIN. Print output to STDOUT\n",
    "M=int(input())\n",
    "a=input().split()\n",
    "a_set=set(map(int,a))\n",
    "\n",
    "N=int(input())\n",
    "b=input().split()\n",
    "b_set=set(map(int,b))\n",
    "\n",
    "\n",
    "sym_diff = a_set.symmetric_difference(b_set)\n",
    "\n",
    "\n",
    "for num in sorted(sym_diff):\n",
    "    print(num)"
   ]
  }
 ],
 "metadata": {
  "language_info": {
   "name": "python"
  }
 },
 "nbformat": 4,
 "nbformat_minor": 5
}
