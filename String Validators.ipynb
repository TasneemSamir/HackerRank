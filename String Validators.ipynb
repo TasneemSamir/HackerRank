{
 "cells": [
  {
   "cell_type": "markdown",
   "id": "4635c99c",
   "metadata": {},
   "source": [
    "You are given a string S.\n",
    "\n",
    "Your task is to find out if the string S contains: alphanumeric characters, alphabetical\n",
    "\n",
    "characters, digits, lowercase and uppercase characters.\n",
    "\n",
    "Input Format\n",
    "\n",
    "A single line containing a string S.\n",
    "\n",
    "Constraints\n",
    "\n",
    "0 <= len(S) <= 1000\n",
    "\n",
    "Output Format\n",
    "\n",
    "In the first line, print `True` if S has any alphanumeric characters. Otherwise, print `False`.\n",
    "\n",
    "In the second line, print `True` if S has any alphabetical characters. Otherwise, print\n",
    "\n",
    "`False`.\n",
    "\n",
    "In the third line, print `True` if S has any digits. Otherwise, print `False`.\n",
    "\n",
    "In the fourth line, print `True` if S has any lowercase characters. Otherwise, print `False`.\n",
    "\n",
    "In the fifth line, print `True` if S has any uppercase characters. Otherwise, print `False`.\n",
    "\n",
    "Sample Input\n",
    "\n",
    "qA2\n",
    "\n",
    "Sample Output\n",
    "\n",
    "True\n",
    "\n",
    "True\n",
    "\n",
    "True\n",
    "\n",
    "True\n",
    "\n",
    "True\n"
   ]
  },
  {
   "cell_type": "code",
   "execution_count": null,
   "id": "5043d309",
   "metadata": {},
   "outputs": [],
   "source": [
    "if __name__ == '__main__':\n",
    "    s = input()\n",
    "    print(any(char.isalnum() for char in s))\n",
    "    print(any(char.isalpha() for char in s))\n",
    "    print(any(char.isdigit()for char in s))\n",
    "    print(any(char.islower() for char in s))\n",
    "    print(any(char.isupper() for char in s))"
   ]
  }
 ],
 "metadata": {
  "language_info": {
   "name": "python"
  }
 },
 "nbformat": 4,
 "nbformat_minor": 5
}
