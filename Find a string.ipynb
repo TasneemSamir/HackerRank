{
 "cells": [
  {
   "cell_type": "markdown",
   "id": "13773de4",
   "metadata": {},
   "source": [
    "In this challenge, the user enters a string and a substring. You have to print the number of\n",
    "\n",
    "times that the substring occurs in the given string. String traversal will take place from left\n",
    "\n",
    "to right, not from right to left.\n",
    "\n",
    "NOTE: String letters are case-sensitive.\n",
    "\n",
    "Input Format\n",
    "\n",
    "The first line of input contains the original string. The next line contains the substring.\n",
    "\n",
    "Constraints\n",
    "\n",
    "1 <= len(string) <= 200\n",
    "\n",
    "Each character in the string is an ascii character.\n",
    "\n",
    "Output Format\n",
    "\n",
    "Output the integer number indicating the total number of occurrences of the substring in\n",
    "\n",
    "the original string.\n",
    "\n",
    "Sample Input\n",
    "\n",
    "ABCDCDC\n",
    "\n",
    "CDC\n",
    "\n",
    "Sample Output\n",
    "\n",
    "2"
   ]
  },
  {
   "cell_type": "code",
   "execution_count": null,
   "id": "c10ac41f",
   "metadata": {},
   "outputs": [],
   "source": [
    "def count_substring(string, sub_string):\n",
    "    count=0\n",
    "    for i in range(0,len(string)):\n",
    "        match= True\n",
    "        for j in range (0 , len(sub_string)):\n",
    "            if i +j >=len(string)or string[i+j]!=sub_string[j]:\n",
    "                match=False\n",
    "                break \n",
    "        if match:\n",
    "            count+=1\n",
    "                \n",
    "    return count"
   ]
  }
 ],
 "metadata": {
  "language_info": {
   "name": "python"
  }
 },
 "nbformat": 4,
 "nbformat_minor": 5
}
