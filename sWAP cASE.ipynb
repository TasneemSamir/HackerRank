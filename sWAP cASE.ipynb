{
 "cells": [
  {
   "cell_type": "markdown",
   "id": "2c85576a",
   "metadata": {},
   "source": [
    "You are given a string and your task is to swap cases. In other words, convert all\n",
    "lowercase letters to uppercase letters and vice versa.\n",
    "\n",
    "For Example:\n",
    "\n",
    "Www.HackerRank.com → www.HACKERRANK.COM\n",
    "\n",
    "Pythonist 2 → PYTHONIST 2\n",
    "\n",
    "Function Description\n",
    "Complete the swap_case function in the editor below.\n",
    "\n",
    "swap_case has the following parameters:\n",
    "\n",
    "• string s: the string to modify\n",
    "\n",
    "Returns\n",
    "• string: the modified string\n",
    "\n",
    "Input Format\n",
    "A single line containing a string s.\n",
    "\n",
    "Constraints\n",
    "0 < len(s) ≤ 1000\n",
    "\n",
    "Sample Input O\n",
    "\n",
    "HackerRank.com presents \"Pythonist 2\".\n",
    "\n",
    "Sample Output O\n",
    "\n",
    "hACKERrANK.COM PRESENTS \"pYTHONIST 2\"."
   ]
  },
  {
   "cell_type": "code",
   "execution_count": null,
   "id": "290258f2",
   "metadata": {},
   "outputs": [],
   "source": [
    "def swap_case(s):\n",
    "    return s.swapcase()"
   ]
  }
 ],
 "metadata": {
  "language_info": {
   "name": "python"
  }
 },
 "nbformat": 4,
 "nbformat_minor": 5
}
