{
 "cells": [
  {
   "cell_type": "markdown",
   "id": "77cc3eb9",
   "metadata": {},
   "source": [
    "Function Description\n",
    "\n",
    "Complete the rangoli function in the editor below.\n",
    "\n",
    "rangoli has the following parameters:\n",
    "\n",
    "• int size: the size of the rangoli\n",
    "\n",
    "Returns\n",
    "\n",
    "• string: a single string made up of each of the lines of the rangoli separated by a\n",
    "\n",
    "newline character (\\n)\n",
    "\n",
    "Input Format\n",
    "\n",
    "Only one line of input containing size, the size of the rangoli.\n",
    "\n",
    "Constraints\n",
    "\n",
    "0 < size < 27\n"
   ]
  },
  {
   "cell_type": "code",
   "execution_count": null,
   "id": "d280de47",
   "metadata": {},
   "outputs": [],
   "source": [
    "import string\n",
    "def print_rangoli(size):\n",
    "    # your code goes here\n",
    "    letters=string.ascii_lowercase\n",
    "    lines=[]\n",
    "    for i in range (size):\n",
    "        left=letters[size-1:i:-1]\n",
    "        center=letters[i:size]\n",
    "        row = '-'.join(left + center)\n",
    "        lines.append(row.center(4*size - 3, '-'))\n",
    "    lines = lines[::-1] + lines[1:]\n",
    "    \n",
    "    for line in lines:\n",
    "             print(line)\n",
    "if __name__ == '__main__':\n",
    "    n = int(input())\n",
    "    print_rangoli(n)"
   ]
  }
 ],
 "metadata": {
  "language_info": {
   "name": "python"
  }
 },
 "nbformat": 4,
 "nbformat_minor": 5
}
