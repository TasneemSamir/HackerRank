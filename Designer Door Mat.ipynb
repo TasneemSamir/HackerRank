{
 "cells": [
  {
   "cell_type": "markdown",
   "id": "5fcffcfa",
   "metadata": {},
   "source": [
    "Mr. Vincent works in a door mat manufacturing company. One day, he designed a new\n",
    "\n",
    "door mat with the following specifications:\n",
    "\n",
    "• Mat size must be NXM. (N is an odd natural number, and M is 3 times N.)\n",
    "\n",
    "• The design should have 'WELCOME' written in the center.\n",
    "\n",
    "• The design pattern should only use |, . and - characters.\n",
    "\n",
    "Input Format\n",
    "\n",
    "A single line containing the space separated values of N and  M .\n",
    "\n",
    "Output Format\n",
    "\n",
    "Output the design pattern.\n"
   ]
  },
  {
   "cell_type": "code",
   "execution_count": null,
   "id": "ae05916b",
   "metadata": {},
   "outputs": [],
   "source": [
    "# Enter your code here. Read input from STDIN. Print output to STDOUT\n",
    "N, M = map(int, input().split())\n",
    "for i in range(1, N, 2):\n",
    "    print((i * \".|.\").center(M,\"-\"))\n",
    "print(\"WELCOME\".center(M, \"-\"))\n",
    "for i in range(N-2, -1, -2):\n",
    "    print((i * \".|.\").center(M, \"-\")) "
   ]
  }
 ],
 "metadata": {
  "language_info": {
   "name": "python"
  }
 },
 "nbformat": 4,
 "nbformat_minor": 5
}
