{
 "cells": [
  {
   "cell_type": "markdown",
   "id": "5807d0d8",
   "metadata": {},
   "source": [
    "Given an integer, n, and n space-separated integers as input, create a tuple, t, of those n\n",
    "integers. Then compute and print the result of `hash(t)`.\n",
    "\n",
    "Note: `hash()` is one of the functions in the `__builtins__` module, so it need not be\n",
    "imported.\n",
    "\n",
    "Input Format\n",
    "\n",
    "The first line contains an integer, n, denoting the number of elements in the tuple.\n",
    "\n",
    "The second line contains n space-separated integers describing the elements in tuple t.\n",
    "\n",
    "Output Format\n",
    "\n",
    "Print the result of `hash(t)`.\n",
    "\n",
    "Sample Input 0\n",
    "\n",
    "2\n",
    "\n",
    "1 2\n",
    "\n",
    "Sample Output 0\n",
    "\n",
    "3713081631934410656"
   ]
  },
  {
   "cell_type": "code",
   "execution_count": null,
   "id": "449926c5",
   "metadata": {},
   "outputs": [],
   "source": [
    "n=int(raw_input())\n",
    "\n",
    "T=tuple([int(i) for i in raw_input().split()])\n",
    "\n",
    "print hash(T)"
   ]
  }
 ],
 "metadata": {
  "language_info": {
   "name": "python"
  }
 },
 "nbformat": 4,
 "nbformat_minor": 5
}
