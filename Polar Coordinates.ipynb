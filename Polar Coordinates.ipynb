{
 "cells": [
  {
   "cell_type": "markdown",
   "id": "8ae7ca6d",
   "metadata": {},
   "source": [
    "Task\n",
    "\n",
    "You are given a complex z. Your task is to convert it to polar coordinates.\n",
    "\n",
    "Input Format\n",
    "\n",
    "A single line containing the complex number z. Note: complex() function can be used in\n",
    "\n",
    "python to convert the input as a complex number.\n",
    "\n",
    "Constraints\n",
    "\n",
    "Given number is a valid complex number\n",
    "\n",
    "Output Format\n",
    "\n",
    "Output two lines:\n",
    "\n",
    "The first line should contain the value of r.\n",
    "\n",
    "The second line should contain the value of theta .\n",
    "\n",
    "Sample Input\n",
    "\n",
    "1+2j\n",
    "\n",
    "Sample Output\n",
    "\n",
    "2.23606797749979\n",
    "\n",
    "1.1071487177940904\n",
    "\n",
    "Note: The output should be correct up to 3 decimal places."
   ]
  },
  {
   "cell_type": "code",
   "execution_count": null,
   "id": "7cb44975",
   "metadata": {},
   "outputs": [],
   "source": [
    "# Enter your code here. Read input from STDIN. Print output to STDOUT\n",
    "import cmath\n",
    "s=input()\n",
    "z=complex(s)\n",
    "r=abs(z)\n",
    "theta=cmath.phase(z)\n",
    "print(r)\n",
    "print(theta)"
   ]
  }
 ],
 "metadata": {
  "language_info": {
   "name": "python"
  }
 },
 "nbformat": 4,
 "nbformat_minor": 5
}
